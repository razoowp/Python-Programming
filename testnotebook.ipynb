{
 "cells": [
  {
   "cell_type": "code",
   "execution_count": null,
   "metadata": {
    "collapsed": true
   },
   "outputs": [],
   "source": [
    "import re\n",
    "\n",
    "pattern = r\"ice(-)?cream\"\n",
    "\n",
    "if re.match(pattern, \"ice-cream\"):\n",
    "    print(\"Match1\")\n",
    "\n",
    "if re.match(pattern, \"icecream\"):\n",
    "    print(\"Match2\")\n",
    "\n",
    "if re.match(pattern, \"ice--cream\"):\n",
    "    print(\"Match3\")\n",
    "\n",
    "if re.match(pattern, \"sausages\"):\n",
    "    print(\"Match4\")\n",
    "\n",
    "'''\n",
    "Match1\n",
    "Match2\n",
    "'''"
   ]
  }
 ],
 "metadata": {
  "kernelspec": {
   "display_name": "Python 2",
   "language": "python",
   "name": "python2"
  },
  "language_info": {
   "codemirror_mode": {
    "name": "ipython",
    "version": 2.0
   },
   "file_extension": ".py",
   "mimetype": "text/x-python",
   "name": "python",
   "nbconvert_exporter": "python",
   "pygments_lexer": "ipython2",
   "version": "2.7.6"
  }
 },
 "nbformat": 4,
 "nbformat_minor": 0
}